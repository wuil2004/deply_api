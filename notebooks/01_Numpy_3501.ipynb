{
 "cells": [
  {
   "cell_type": "markdown",
   "id": "ece7c03e-375f-4a74-b5fb-da43c75354de",
   "metadata": {},
   "source": [
    "# Introduccion a Numpy"
   ]
  },
  {
   "cell_type": "markdown",
   "id": "1e9ef376-091e-4cfd-8029-d49e7289d305",
   "metadata": {},
   "source": [
    "[Numpy](https://numpy.org/doc/stable/) es una libreria para la computacion con Python"
   ]
  },
  {
   "cell_type": "markdown",
   "id": "de729178-1fc2-48cd-b989-08d69f39658a",
   "metadata": {},
   "source": [
    "* Proporciona Arrays N-Dimensionales.\n",
    "* Implementa funciones matemáticas sofisticadas.\n",
    "* Proporciona herramientas para integrar C/C++ y Fortran.\n",
    "* Proporciona mecanismos para facilitar la realización de las tareas relacionadas con álgebra lineal o numeros aleatorios."
   ]
  },
  {
   "cell_type": "markdown",
   "id": "1673caab-048c-4aa4-94b6-7e4e4059c80f",
   "metadata": {},
   "source": [
    "# Imports"
   ]
  },
  {
   "cell_type": "code",
   "execution_count": 1,
   "id": "baf5d257-b267-4b77-b280-6b59026dfca6",
   "metadata": {},
   "outputs": [],
   "source": [
    "import numpy as np"
   ]
  },
  {
   "cell_type": "markdown",
   "id": "9fed9944-c2a1-455e-94a3-347e622372a6",
   "metadata": {},
   "source": [
    "## Arrays\n",
    "Un **array** Un array es una estructura de datos que consiste en una colección de elementos (valores o variables), cada uno identificado por al menos un indice o clave. Un array se almacena de modo que la posición de cada elemento se pueda calcular a partir de su tupla de indice, mediante una fórmula matemática. El tipo más simple de array es un array lineal, tambien llamado array unidimensional."
   ]
  },
  {
   "cell_type": "markdown",
   "id": "edfd8950-56ee-441a-ad65-d250abd4ad34",
   "metadata": {},
   "source": [
    "En Numpy:\n",
    "* Cada dimensión se denomina **axix**.\n",
    "* El número de dimensiones se denomina **rank**\n",
    "* La lista de dimensiones con su correspondiente longitud se denomina **shape**\n",
    "* El número total de elementos (multiplicación de la longitud de las dimensiones) se denomina **size**"
   ]
  },
  {
   "cell_type": "code",
   "execution_count": 2,
   "id": "082cd624-5d9e-4997-9917-8c10098d52af",
   "metadata": {},
   "outputs": [
    {
     "data": {
      "text/plain": [
       "array([[0., 0., 0., 0.],\n",
       "       [0., 0., 0., 0.]])"
      ]
     },
     "execution_count": 2,
     "metadata": {},
     "output_type": "execute_result"
    }
   ],
   "source": [
    "# Array cuyos valores son todos 0.\n",
    "a = np.zeros((2,4))\n",
    "a"
   ]
  },
  {
   "cell_type": "markdown",
   "id": "cd2cbe2e-8e26-495e-b098-24660c40c9df",
   "metadata": {},
   "source": [
    "_a_ es un array:\n",
    "* Con dos **axis**, el primero de longitud 2 y segundo de longitud 4.\n",
    "* Con un **rank** igual a 2.\n",
    "* Con un **shape** igual (2,4) •\n",
    "* Con un **size** igual a 8."
   ]
  },
  {
   "cell_type": "code",
   "execution_count": 3,
   "id": "dc1b6818-393b-487a-ad26-b065f60b1ece",
   "metadata": {},
   "outputs": [
    {
     "data": {
      "text/plain": [
       "(2, 4)"
      ]
     },
     "execution_count": 3,
     "metadata": {},
     "output_type": "execute_result"
    }
   ],
   "source": [
    "a.shape"
   ]
  },
  {
   "cell_type": "code",
   "execution_count": 4,
   "id": "07ad465d-c5fb-4dac-9753-41aa531b17cf",
   "metadata": {},
   "outputs": [
    {
     "data": {
      "text/plain": [
       "2"
      ]
     },
     "execution_count": 4,
     "metadata": {},
     "output_type": "execute_result"
    }
   ],
   "source": [
    "a.ndim"
   ]
  },
  {
   "cell_type": "code",
   "execution_count": 5,
   "id": "d5201753-dee8-495f-affb-2edf2c28bdf8",
   "metadata": {},
   "outputs": [
    {
     "data": {
      "text/plain": [
       "8"
      ]
     },
     "execution_count": 5,
     "metadata": {},
     "output_type": "execute_result"
    }
   ],
   "source": [
    "a.size"
   ]
  },
  {
   "cell_type": "markdown",
   "id": "be8d0c19-231b-4840-9597-bc47d7a30977",
   "metadata": {},
   "source": [
    "# Creacion de arrays"
   ]
  },
  {
   "cell_type": "code",
   "execution_count": 6,
   "id": "ee6bc86d-36cb-45da-a4ff-3ad2353932af",
   "metadata": {},
   "outputs": [
    {
     "data": {
      "text/plain": [
       "array([[[0., 0., 0., 0.],\n",
       "        [0., 0., 0., 0.],\n",
       "        [0., 0., 0., 0.]],\n",
       "\n",
       "       [[0., 0., 0., 0.],\n",
       "        [0., 0., 0., 0.],\n",
       "        [0., 0., 0., 0.]]])"
      ]
     },
     "execution_count": 6,
     "metadata": {},
     "output_type": "execute_result"
    }
   ],
   "source": [
    "# Array cuyos valores sont todos 0\n",
    "np.zeros ((2,3, 4))"
   ]
  },
  {
   "cell_type": "code",
   "execution_count": 7,
   "id": "2e68d42b-555e-457f-98d8-82554fd0d8c4",
   "metadata": {},
   "outputs": [
    {
     "data": {
      "text/plain": [
       "array([[[1., 1., 1., 1.],\n",
       "        [1., 1., 1., 1.],\n",
       "        [1., 1., 1., 1.]],\n",
       "\n",
       "       [[1., 1., 1., 1.],\n",
       "        [1., 1., 1., 1.],\n",
       "        [1., 1., 1., 1.]]])"
      ]
     },
     "execution_count": 7,
     "metadata": {},
     "output_type": "execute_result"
    }
   ],
   "source": [
    "# Array cuyos valores sont todos 1\n",
    "np.ones((2,3,4))"
   ]
  },
  {
   "cell_type": "code",
   "execution_count": 8,
   "id": "185b894c-1cb1-4afb-a53c-45f954b25d6c",
   "metadata": {},
   "outputs": [
    {
     "data": {
      "text/plain": [
       "array([[[8, 8, 8, 8],\n",
       "        [8, 8, 8, 8],\n",
       "        [8, 8, 8, 8]],\n",
       "\n",
       "       [[8, 8, 8, 8],\n",
       "        [8, 8, 8, 8],\n",
       "        [8, 8, 8, 8]]])"
      ]
     },
     "execution_count": 8,
     "metadata": {},
     "output_type": "execute_result"
    }
   ],
   "source": [
    "# Array cuyos valores son todos el valor indicado como segundo parámetro de la función\n",
    "np.full((2,3,4), 8)"
   ]
  },
  {
   "cell_type": "code",
   "execution_count": 9,
   "id": "6ee4c130-c158-4e9e-b212-a32491123bf6",
   "metadata": {},
   "outputs": [
    {
     "data": {
      "text/plain": [
       "array([[[2.57855524e-316, 0.00000000e+000, 6.90664501e-310,\n",
       "         6.90664501e-310, 6.90664501e-310, 6.90664501e-310,\n",
       "         6.90664501e-310, 6.90664500e-310, 6.90664501e-310],\n",
       "        [6.90664501e-310, 2.66223281e-316, 6.90664500e-310,\n",
       "         6.90664501e-310, 6.90664501e-310, 6.90664709e-310,\n",
       "         6.90664501e-310, 6.90664501e-310, 6.90664501e-310],\n",
       "        [6.90664501e-310, 6.90664500e-310, 6.90664501e-310,\n",
       "         6.90664511e-310, 6.90664500e-310, 6.90664501e-310,\n",
       "         6.90664501e-310, 6.90664518e-310, 6.90664500e-310]],\n",
       "\n",
       "       [[6.90664500e-310, 4.84870491e-317, 6.90664501e-310,\n",
       "         6.90664501e-310, 6.90664501e-310, 6.90664505e-310,\n",
       "         6.90664501e-310, 6.90664509e-310, 6.90664501e-310],\n",
       "        [6.90664505e-310, 6.90664719e-310, 6.90664509e-310,\n",
       "         6.90664706e-310, 6.90664507e-310, 6.90664716e-310,\n",
       "         6.90664510e-310, 4.82946797e-317, 6.90664500e-310],\n",
       "        [4.85584317e-317, 6.90664501e-310, 6.90664507e-310,\n",
       "         6.90664501e-310, 6.90664500e-310, 6.90664719e-310,\n",
       "         2.65140052e-316, 6.90664521e-310, 6.90664501e-310]]])"
      ]
     },
     "execution_count": 9,
     "metadata": {},
     "output_type": "execute_result"
    }
   ],
   "source": [
    "# El resultado de np.empty no es predecible\n",
    "# Ae inicializa con los valores del array con lo que haya en memoria en este momento\n",
    "np.empty((2, 3, 9))"
   ]
  },
  {
   "cell_type": "code",
   "execution_count": 10,
   "id": "c7a15d22-7f99-45b8-9df6-7c7931f65f59",
   "metadata": {},
   "outputs": [
    {
     "data": {
      "text/plain": [
       "array([[1, 2, 3],\n",
       "       [4, 5, 6]])"
      ]
     },
     "execution_count": 10,
     "metadata": {},
     "output_type": "execute_result"
    }
   ],
   "source": [
    "# Inicializar el array utilizando un array de Python\n",
    "b= np.array([[1, 2, 3], [4, 5, 6]])\n",
    "b"
   ]
  },
  {
   "cell_type": "code",
   "execution_count": 11,
   "id": "f131aa48-0c1d-4558-844b-01bdac493b1e",
   "metadata": {},
   "outputs": [
    {
     "data": {
      "text/plain": [
       "(2, 3)"
      ]
     },
     "execution_count": 11,
     "metadata": {},
     "output_type": "execute_result"
    }
   ],
   "source": [
    "b.shape"
   ]
  },
  {
   "cell_type": "code",
   "execution_count": 12,
   "id": "53deea28-3b42-4293-9d8f-56109a4f02bb",
   "metadata": {},
   "outputs": [
    {
     "name": "stdout",
     "output_type": "stream",
     "text": [
      "[0.         0.66666667 1.33333333 2.         2.66666667 3.33333333\n",
      " 4.         4.66666667 5.33333333 6.        ]\n"
     ]
    }
   ],
   "source": [
    "# Crear un array utilizando na función basada en rangos\n",
    "# (minimo, maximo, número de elementos del array)\n",
    "print(np.linspace(0, 6, 10))"
   ]
  },
  {
   "cell_type": "code",
   "execution_count": 13,
   "id": "a402d3fd-3daa-4176-991d-6871a8cfc756",
   "metadata": {},
   "outputs": [
    {
     "data": {
      "text/plain": [
       "array([[[0.60027743, 0.76801439, 0.14717976, 0.30548502],\n",
       "        [0.85463176, 0.33268012, 0.32005671, 0.98378801],\n",
       "        [0.63423657, 0.72540238, 0.0404938 , 0.99470193]],\n",
       "\n",
       "       [[0.52840774, 0.51929116, 0.09501525, 0.13952301],\n",
       "        [0.64968925, 0.48972214, 0.59962948, 0.94604261],\n",
       "        [0.16451512, 0.16519675, 0.27124805, 0.92821734]]])"
      ]
     },
     "execution_count": 13,
     "metadata": {},
     "output_type": "execute_result"
    }
   ],
   "source": [
    "# Inicializar el array con valores aleatorios\n",
    "np.random.rand(2, 3, 4)"
   ]
  },
  {
   "cell_type": "code",
   "execution_count": 14,
   "id": "4ad2dea6-9006-417a-a18b-b822e54be66b",
   "metadata": {},
   "outputs": [
    {
     "data": {
      "text/plain": [
       "array([[ 1.5319289 , -1.55447027,  0.97356123, -0.11810177],\n",
       "       [ 0.73734745,  0.62745092, -1.40266449,  0.42763323]])"
      ]
     },
     "execution_count": 14,
     "metadata": {},
     "output_type": "execute_result"
    }
   ],
   "source": [
    "# Iniciar arrray con valores aleatorios conforme a una distribucion normal\n",
    "np.random.randn(2, 4)"
   ]
  },
  {
   "cell_type": "code",
   "execution_count": 15,
   "id": "83bc72d6-a81d-497d-84a9-d5328477807e",
   "metadata": {},
   "outputs": [
    {
     "data": {
      "image/png": "[encoded data removed]",
      "text/plain": [
       "<Figure size 640x480 with 1 Axes>"
      ]
     },
     "metadata": {},
     "output_type": "display_data"
    }
   ],
   "source": [
    "%matplotlib inline\n",
    "import matplotlib.pyplot as plt\n",
    "\n",
    "c= np.random.randn(10000)\n",
    "plt.hist(c, bins=800)\n",
    "plt.show()"
   ]
  },
  {
   "cell_type": "code",
   "execution_count": 16,
   "id": "680e73cc-fa82-4581-8c50-c064cd4ae7d3",
   "metadata": {},
   "outputs": [
    {
     "data": {
      "text/plain": [
       "array([[ 0.,  2.,  4.,  6.,  8.],\n",
       "       [ 1.,  3.,  5.,  7.,  9.],\n",
       "       [ 2.,  4.,  6.,  8., 10.]])"
      ]
     },
     "execution_count": 16,
     "metadata": {},
     "output_type": "execute_result"
    }
   ],
   "source": [
    "#Inicializar un array utilizando una funcion personalizada.\n",
    "def func(x, y):\n",
    "    return x + 2 * y\n",
    "\n",
    "np.fromfunction(func, (3, 5))"
   ]
  },
  {
   "cell_type": "markdown",
   "id": "078608b2-d513-46d7-97c0-eee3b6d54086",
   "metadata": {},
   "source": [
    "## Acceso a los elementos de un array\n",
    "\n",
    "## Array Unidimensional"
   ]
  },
  {
   "cell_type": "code",
   "execution_count": 17,
   "id": "66f142b3-3941-4af7-a607-e775a5242597",
   "metadata": {},
   "outputs": [
    {
     "name": "stdout",
     "output_type": "stream",
     "text": [
      "Shape: (6,)\n",
      "Array_uni [ 1  3  5  7  9 11]\n"
     ]
    }
   ],
   "source": [
    "# Acceder a los elementos de un array.\n",
    "array_uni = np.array([1,3, 5, 7, 9, 11])\n",
    "print (\"Shape:\", array_uni.shape)\n",
    "print (\"Array_uni\", array_uni)"
   ]
  },
  {
   "cell_type": "code",
   "execution_count": 18,
   "id": "9c553759-3d98-44ee-9df3-16b7b266b894",
   "metadata": {},
   "outputs": [
    {
     "data": {
      "text/plain": [
       "9"
      ]
     },
     "execution_count": 18,
     "metadata": {},
     "output_type": "execute_result"
    }
   ],
   "source": [
    "# Accediento al quinto elemento del array\n",
    "array_uni[4]"
   ]
  },
  {
   "cell_type": "code",
   "execution_count": 19,
   "id": "5980036c-79fe-4eb1-b035-17aab49a47ab",
   "metadata": {},
   "outputs": [
    {
     "data": {
      "text/plain": [
       "array([5, 7])"
      ]
     },
     "execution_count": 19,
     "metadata": {},
     "output_type": "execute_result"
    }
   ],
   "source": [
    "# Acceder al tercer y cuarto elemento del array\n",
    "array_uni[2:4]"
   ]
  },
  {
   "cell_type": "markdown",
   "id": "ebfee5f1-0838-4830-802d-031b1f740ba4",
   "metadata": {},
   "source": [
    "# Array multidimensional"
   ]
  },
  {
   "cell_type": "code",
   "execution_count": 20,
   "id": "9265069a-ee0b-476d-82d6-1392a772edb8",
   "metadata": {},
   "outputs": [
    {
     "name": "stdout",
     "output_type": "stream",
     "text": [
      "Shape: (2, 4)\n",
      "Array_multi:\n",
      " [[1 2 3 4]\n",
      " [5 6 7 8]]\n"
     ]
    }
   ],
   "source": [
    "# Crear un array multidimensional.\n",
    "array_multi = np.array([[1, 2, 3, 4], [5, 6, 7, 8]])\n",
    "print(\"Shape:\", array_multi.shape)\n",
    "print(\"Array_multi:\\n\", array_multi)"
   ]
  },
  {
   "cell_type": "code",
   "execution_count": 21,
   "id": "1a3325a3-71df-471b-9b8a-195685502baa",
   "metadata": {},
   "outputs": [
    {
     "data": {
      "text/plain": [
       "4"
      ]
     },
     "execution_count": 21,
     "metadata": {},
     "output_type": "execute_result"
    }
   ],
   "source": [
    "#Acceder al cuarto elemento del array\n",
    "array_multi[0, 3]"
   ]
  },
  {
   "cell_type": "code",
   "execution_count": 22,
   "id": "ef9a581d-e083-477c-999e-7e34dce9daa3",
   "metadata": {},
   "outputs": [
    {
     "data": {
      "text/plain": [
       "array([5, 6, 7, 8])"
      ]
     },
     "execution_count": 22,
     "metadata": {},
     "output_type": "execute_result"
    }
   ],
   "source": [
    "#Acceder a la segunda fila del array\n",
    "array_multi[1, :]"
   ]
  },
  {
   "cell_type": "code",
   "execution_count": 23,
   "id": "98bc13cb-63e4-4ebd-81bb-c8833d63ea01",
   "metadata": {},
   "outputs": [
    {
     "data": {
      "text/plain": [
       "array([1, 5])"
      ]
     },
     "execution_count": 23,
     "metadata": {},
     "output_type": "execute_result"
    }
   ],
   "source": [
    "# Acceder al primer elemento de las dos primeras filas del array\n",
    "array_multi [0:2, 0]"
   ]
  },
  {
   "cell_type": "markdown",
   "id": "d6e6fdf7-d9b7-4e71-9182-acab075aff87",
   "metadata": {},
   "source": [
    "# Modificacion de un array"
   ]
  },
  {
   "cell_type": "code",
   "execution_count": 24,
   "id": "a79e905a-6c2e-4995-a60e-ac7594cb3dfb",
   "metadata": {},
   "outputs": [
    {
     "name": "stdout",
     "output_type": "stream",
     "text": [
      "Shape: (28,)\n",
      "Array:\n",
      " [ 0  1  2  3  4  5  6  7  8  9 10 11 12 13 14 15 16 17 18 19 20 21 22 23\n",
      " 24 25 26 27]\n"
     ]
    }
   ],
   "source": [
    "# Crear un arreglo unidimensional  e inicializarlo con un rango\n",
    "\n",
    "# de elementos 0-27\n",
    "array1 = np.arange(28)\n",
    "print(\"Shape:\", array1.shape)\n",
    "print(\"Array:\\n\", array1)"
   ]
  },
  {
   "cell_type": "code",
   "execution_count": 25,
   "id": "2ec2d9af-90c9-4605-8aef-62227c9d9702",
   "metadata": {},
   "outputs": [
    {
     "name": "stdout",
     "output_type": "stream",
     "text": [
      "Shape: (7, 4)\n",
      "Array:\n",
      " [[ 0  1  2  3]\n",
      " [ 4  5  6  7]\n",
      " [ 8  9 10 11]\n",
      " [12 13 14 15]\n",
      " [16 17 18 19]\n",
      " [20 21 22 23]\n",
      " [24 25 26 27]]\n"
     ]
    }
   ],
   "source": [
    "# Cambiar las dimensiones del array y sus longitudes.\n",
    "array1.shape = (7, 4)\n",
    "print(\"Shape:\", array1.shape)\n",
    "print(\"Array:\\n\", array1)"
   ]
  },
  {
   "cell_type": "code",
   "execution_count": 26,
   "id": "84917de1-3cec-43f3-88e9-7f8150aaee14",
   "metadata": {},
   "outputs": [
    {
     "name": "stdout",
     "output_type": "stream",
     "text": [
      "Shape: (4, 7)\n",
      "Array:\n",
      " [[ 0  1  2  3  4  5  6]\n",
      " [ 7  8  9 10 11 12 13]\n",
      " [14 15 16 17 18 19 20]\n",
      " [21 22 23 24 25 26 27]]\n"
     ]
    }
   ],
   "source": [
    "#El ejemplo anterior devuelve un nuevo array que apunta a los mismos datos.\n",
    "# Nota: modificaciones en el array, modificaran el otro array.\n",
    "array2 = array1.reshape(4, 7)\n",
    "print(\"Shape:\", array2.shape)\n",
    "print(\"Array:\\n\", array2)"
   ]
  },
  {
   "cell_type": "code",
   "execution_count": 27,
   "id": "8501531b-6a61-48ca-8a49-090177f1a3df",
   "metadata": {},
   "outputs": [
    {
     "name": "stdout",
     "output_type": "stream",
     "text": [
      "Array2:\n",
      " [[ 0  1  2  3  4  5  6]\n",
      " [ 7  8  9 30 11 12 13]\n",
      " [14 15 16 17 18 19 20]\n",
      " [21 22 23 24 25 26 27]]\n"
     ]
    }
   ],
   "source": [
    "# Modificacion del nuevo array devuelto\n",
    "array2[1, 3] = 30\n",
    "print (\"Array2:\\n\", array2)"
   ]
  },
  {
   "cell_type": "code",
   "execution_count": 28,
   "id": "c1f62b66-d6ed-4e3d-8471-6f626e414de2",
   "metadata": {},
   "outputs": [
    {
     "name": "stdout",
     "output_type": "stream",
     "text": [
      "Array1:\n",
      " [[ 0  1  2  3]\n",
      " [ 4  5  6  7]\n",
      " [ 8  9 30 11]\n",
      " [12 13 14 15]\n",
      " [16 17 18 19]\n",
      " [20 21 22 23]\n",
      " [24 25 26 27]]\n"
     ]
    }
   ],
   "source": [
    "print(\"Array1:\\n\", array1)"
   ]
  },
  {
   "cell_type": "code",
   "execution_count": 29,
   "id": "fce9e87d-29f1-411a-9598-1c10e4b71935",
   "metadata": {},
   "outputs": [
    {
     "name": "stdout",
     "output_type": "stream",
     "text": [
      "Array1:  [ 0  1  2  3  4  5  6  7  8  9 30 11 12 13 14 15 16 17 18 19 20 21 22 23\n",
      " 24 25 26 27]\n"
     ]
    }
   ],
   "source": [
    "# Devolver el array a su estado original\n",
    "print(\"Array1: \", array1.ravel())"
   ]
  },
  {
   "cell_type": "markdown",
   "id": "9ff6a41a-c1db-4806-9086-c88a414092a2",
   "metadata": {},
   "source": [
    "## Operaciones Aritmeticas con Arrays"
   ]
  },
  {
   "cell_type": "code",
   "execution_count": 44,
   "id": "898638cf-6ca1-4718-afcb-5f403f0b7bb4",
   "metadata": {},
   "outputs": [
    {
     "name": "stdout",
     "output_type": "stream",
     "text": [
      "Array1: [ 2  4  6  8 10 12 14 16]\n",
      "Array2: [0 1 2 3 4 5 6 7]\n"
     ]
    }
   ],
   "source": [
    "array1 = np.arange(2, 18, 2)\n",
    "array2 = np.arange(8)\n",
    "print(\"Array1:\", array1)\n",
    "print(\"Array2:\", array2)"
   ]
  },
  {
   "cell_type": "code",
   "execution_count": 31,
   "id": "52c56243-ee4f-4e27-9950-b4eeb4c5b1c6",
   "metadata": {},
   "outputs": [
    {
     "name": "stdout",
     "output_type": "stream",
     "text": [
      "[ 2  5  8 11 14 17 20 23]\n"
     ]
    }
   ],
   "source": [
    "# suma\n",
    "print(array1 + array2)"
   ]
  },
  {
   "cell_type": "code",
   "execution_count": 32,
   "id": "86a1db3d-5636-458f-a02b-ed6112079cf7",
   "metadata": {},
   "outputs": [
    {
     "name": "stdout",
     "output_type": "stream",
     "text": [
      "[2 3 4 5 6 7 8 9]\n"
     ]
    }
   ],
   "source": [
    "# Resta\n",
    "print(array1- array2)"
   ]
  },
  {
   "cell_type": "code",
   "execution_count": 33,
   "id": "e06eb580-5e5c-4b23-88fe-4c00bdc03e40",
   "metadata": {},
   "outputs": [
    {
     "name": "stdout",
     "output_type": "stream",
     "text": [
      "[  0   4  12  24  40  60  84 112]\n"
     ]
    }
   ],
   "source": [
    "# Multiplicacion\n",
    "# Nota: NO es una multiplicación de matrices\n",
    "print (array1 * array2)"
   ]
  },
  {
   "cell_type": "markdown",
   "id": "0f34d04f-e08e-4ec4-8257-5e24b7e762c3",
   "metadata": {},
   "source": [
    "## Broadcasting\n",
    "Si se aplican operaciones aritmeticas sobre arrays que no tienen la misma forma (O sea el mismo shape), Numpy aplica una\n",
    "propiedad que se llama Broadcasting."
   ]
  },
  {
   "cell_type": "code",
   "execution_count": 34,
   "id": "2a238066-7a97-477e-92a2-4c3d1c060354",
   "metadata": {},
   "outputs": [
    {
     "name": "stdout",
     "output_type": "stream",
     "text": [
      "Shape: (5,)\n",
      "Array1:\n",
      " [0 1 2 3 4]\n",
      "\n",
      "\n",
      "Shape: (1,)\n",
      "Array2:\n",
      " [3]\n"
     ]
    }
   ],
   "source": [
    "array1 = np.arange(5)\n",
    "array2 = np.array([3])\n",
    "print(\"Shape:\", array1.shape)\n",
    "print(\"Array1:\\n\", array1)\n",
    "print(\"\\n\")\n",
    "print(\"Shape:\", array2.shape)\n",
    "print(\"Array2:\\n\", array2)"
   ]
  },
  {
   "cell_type": "code",
   "execution_count": 35,
   "id": "83848034-d0ea-4dd7-a6d1-3b41aaa47403",
   "metadata": {},
   "outputs": [
    {
     "data": {
      "text/plain": [
       "array([3, 4, 5, 6, 7])"
      ]
     },
     "execution_count": 35,
     "metadata": {},
     "output_type": "execute_result"
    }
   ],
   "source": [
    "#Suma de ambos Arrays\n",
    "array1 + array2"
   ]
  },
  {
   "cell_type": "code",
   "execution_count": 36,
   "id": "719bc1f3-6308-4073-a37d-0877d700696d",
   "metadata": {},
   "outputs": [
    {
     "data": {
      "text/plain": [
       "array([ 0,  3,  6,  9, 12])"
      ]
     },
     "execution_count": 36,
     "metadata": {},
     "output_type": "execute_result"
    }
   ],
   "source": [
    "# Multiplicacion\n",
    "array1 * array2"
   ]
  },
  {
   "cell_type": "markdown",
   "id": "d564f751-dcab-4fc5-9d65-3ad37cc5ef67",
   "metadata": {},
   "source": [
    "## Funciones estadisticas sobre arrays"
   ]
  },
  {
   "cell_type": "code",
   "execution_count": 45,
   "id": "1330d9ae-80b4-4fab-8215-7d9904e63da0",
   "metadata": {},
   "outputs": [
    {
     "name": "stdout",
     "output_type": "stream",
     "text": [
      "Array1:\n",
      " [ 1  3  5  7  9 11 13 15 17 19]\n"
     ]
    }
   ],
   "source": [
    "#Creacion de un array unidimensional\n",
    "array1 = np.arange (1, 20, 2)\n",
    "print (\"Array1:\\n\", array1)"
   ]
  },
  {
   "cell_type": "code",
   "execution_count": 38,
   "id": "7b5fcece-d11e-445c-8745-13dbc955b551",
   "metadata": {},
   "outputs": [
    {
     "data": {
      "text/plain": [
       "10.0"
      ]
     },
     "execution_count": 38,
     "metadata": {},
     "output_type": "execute_result"
    }
   ],
   "source": [
    "# Media de los elementos del array\n",
    "array1.mean()"
   ]
  },
  {
   "cell_type": "code",
   "execution_count": 39,
   "id": "7bc2056f-0dbd-467d-bf02-da5ba56f8ce8",
   "metadata": {},
   "outputs": [
    {
     "data": {
      "text/plain": [
       "100"
      ]
     },
     "execution_count": 39,
     "metadata": {},
     "output_type": "execute_result"
    }
   ],
   "source": [
    "# suma de los elementos del array\n",
    "array1.sum()"
   ]
  },
  {
   "cell_type": "markdown",
   "id": "ee9a4744-51fd-405b-807b-e8c0fb29483e",
   "metadata": {},
   "source": [
    "## Funciones universales proporcionadas por numpy: **unfuc**"
   ]
  },
  {
   "cell_type": "code",
   "execution_count": 40,
   "id": "baa70f1c-66fa-4179-8efd-785384567c3e",
   "metadata": {},
   "outputs": [
    {
     "data": {
      "text/plain": [
       "array([  1,   9,  25,  49,  81, 121, 169, 225, 289, 361])"
      ]
     },
     "execution_count": 40,
     "metadata": {},
     "output_type": "execute_result"
    }
   ],
   "source": [
    "#Cuadrado de los elementos del array\n",
    "np.square(array1)"
   ]
  },
  {
   "cell_type": "code",
   "execution_count": 41,
   "id": "1bb149a1-f3d9-4ca2-9883-8ad67b32cf64",
   "metadata": {},
   "outputs": [
    {
     "data": {
      "text/plain": [
       "array([1.        , 1.73205081, 2.23606798, 2.64575131, 3.        ,\n",
       "       3.31662479, 3.60555128, 3.87298335, 4.12310563, 4.35889894])"
      ]
     },
     "execution_count": 41,
     "metadata": {},
     "output_type": "execute_result"
    }
   ],
   "source": [
    "# Raiz cuadrada de los elementos del array\n",
    "np.sqrt(array1)"
   ]
  },
  {
   "cell_type": "code",
   "execution_count": 42,
   "id": "2c643d80-8bbb-4f56-a7bb-eaeeefc2bc23",
   "metadata": {},
   "outputs": [
    {
     "data": {
      "text/plain": [
       "array([2.71828183e+00, 2.00855369e+01, 1.48413159e+02, 1.09663316e+03,\n",
       "       8.10308393e+03, 5.98741417e+04, 4.42413392e+05, 3.26901737e+06,\n",
       "       2.41549528e+07, 1.78482301e+08])"
      ]
     },
     "execution_count": 42,
     "metadata": {},
     "output_type": "execute_result"
    }
   ],
   "source": [
    "# Exponencial de los elementos del array\n",
    "np.exp(array1)"
   ]
  },
  {
   "cell_type": "code",
   "execution_count": 43,
   "id": "5e38e09d-2e07-4215-8e18-f438b047db17",
   "metadata": {},
   "outputs": [
    {
     "data": {
      "text/plain": [
       "array([0.        , 1.09861229, 1.60943791, 1.94591015, 2.19722458,\n",
       "       2.39789527, 2.56494936, 2.7080502 , 2.83321334, 2.94443898])"
      ]
     },
     "execution_count": 43,
     "metadata": {},
     "output_type": "execute_result"
    }
   ],
   "source": [
    "# log de los elementos del array\n",
    "np.log (array1)"
   ]
  },
  {
   "cell_type": "code",
   "execution_count": 46,
   "id": "7fa963dc-5b23-4c23-abf0-e37eb0ecb2f4",
   "metadata": {},
   "outputs": [
    {
     "data": {
      "text/plain": [
       "array([[-0.84262532, -0.4755436 ,  0.97777944],\n",
       "       [-0.64790866, -0.22510048, -1.37743914]])"
      ]
     },
     "execution_count": 46,
     "metadata": {},
     "output_type": "execute_result"
    }
   ],
   "source": [
    "import numpy as np\n",
    "\n",
    "np.random.randn (2, 3)"
   ]
  },
  {
   "cell_type": "code",
   "execution_count": null,
   "id": "591c746c-4088-47a4-a139-cf7013d9c12e",
   "metadata": {},
   "outputs": [],
   "source": []
  }
 ],
 "metadata": {
  "kernelspec": {
   "display_name": "Python 3 (ipykernel)",
   "language": "python",
   "name": "python3"
  },
  "language_info": {
   "codemirror_mode": {
    "name": "ipython",
    "version": 3
   },
   "file_extension": ".py",
   "mimetype": "text/x-python",
   "name": "python",
   "nbconvert_exporter": "python",
   "pygments_lexer": "ipython3",
   "version": "3.12.4"
  }
 },
 "nbformat": 4,
 "nbformat_minor": 5
}
